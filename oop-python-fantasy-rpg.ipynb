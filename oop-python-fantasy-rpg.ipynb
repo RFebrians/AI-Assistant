{
 "cells": [
  {
   "cell_type": "markdown",
   "id": "9e03a904",
   "metadata": {
    "papermill": {
     "duration": 0.00467,
     "end_time": "2022-06-20T08:17:56.071171",
     "exception": false,
     "start_time": "2022-06-20T08:17:56.066501",
     "status": "completed"
    },
    "tags": []
   },
   "source": [
    "<div class=\"alert alert-block \">\n",
    "    <h1 align=\"center\">Object-Oriented Programming in Python </h1>\n",
    "    <h1 align=\"center\">Fantasy RPG 👾 : </h1>\n",
    "    <h1 align=\"center\">Goblin , Orc & Human  </h1>\n",
    "    <h4 align=\"center\"><a href=\"https://www.sololearn.com/Discuss/2825350/oop-goblin-game\">Adaptation</a> | <a href=\"https://zegveld.me\"> Writer</a></h5>\n",
    "    <h5 align=\"right\">2022</h5>\n",
    "</div>"
   ]
  },
  {
   "cell_type": "markdown",
   "id": "1d52f11f",
   "metadata": {
    "papermill": {
     "duration": 0.003279,
     "end_time": "2022-06-20T08:17:56.080774",
     "exception": false,
     "start_time": "2022-06-20T08:17:56.077495",
     "status": "completed"
    },
    "tags": []
   },
   "source": [
    "# The Quest\n",
    "\n",
    "#### You're entering a world that has a various monster \n",
    "#### You may meet unexpected things based on your interaction\n",
    "#### make sure you have a consciousness to not injured yourself or any other human being\n",
    "\n",
    "![](https://wallpapercave.com/wp/wp5843785.png)\n",
    "> [1]\n",
    "\n",
    "### Goodluck !\n"
   ]
  },
  {
   "cell_type": "markdown",
   "id": "cf29c659",
   "metadata": {
    "papermill": {
     "duration": 0.003235,
     "end_time": "2022-06-20T08:17:56.087501",
     "exception": false,
     "start_time": "2022-06-20T08:17:56.084266",
     "status": "completed"
    },
    "tags": []
   },
   "source": [
    "## In this section you'll be prepared to :\n",
    "\n",
    "- Exploring an Object Oriented Programming in Python based on Fantasy object\n",
    "- Structure of OOP\n",
    "\n",
    "### make sure to firm your grip , steadfast and do your best"
   ]
  },
  {
   "cell_type": "markdown",
   "id": "bdf6c227",
   "metadata": {
    "papermill": {
     "duration": 0.003334,
     "end_time": "2022-06-20T08:17:56.094277",
     "exception": false,
     "start_time": "2022-06-20T08:17:56.090943",
     "status": "completed"
    },
    "tags": []
   },
   "source": [
    "# Objective\n",
    "\n",
    "- Okay so we have an imagination , we have object , and we'll make them like an NPC\n",
    "- Let's say our heroine is Human , and there is an Orc , Orclin and Goblin\n",
    "\n",
    "![](https://raw.githubusercontent.com/RFebrians/AI-Assistant/main/playground/assets/1579023527.afallenwolf_orc_evolution.jpg)\n",
    "> [2]\n",
    "\n",
    "**Based on picture above we know that**\n",
    "\n",
    "#### Orc : Has a strong Physic it appears as a boss monster\n",
    "#### Orclin : Has an intermediate Physic as a monster\n",
    "#### Human : An average human like you\n",
    "#### Goblin : A short monster"
   ]
  },
  {
   "cell_type": "markdown",
   "id": "d8e6d9d1",
   "metadata": {
    "papermill": {
     "duration": 0.003216,
     "end_time": "2022-06-20T08:17:56.100842",
     "exception": false,
     "start_time": "2022-06-20T08:17:56.097626",
     "status": "completed"
    },
    "tags": []
   },
   "source": [
    "# Let's Start"
   ]
  },
  {
   "cell_type": "markdown",
   "id": "29f27df1",
   "metadata": {
    "papermill": {
     "duration": 0.003394,
     "end_time": "2022-06-20T08:17:56.108028",
     "exception": false,
     "start_time": "2022-06-20T08:17:56.104634",
     "status": "completed"
    },
    "tags": []
   },
   "source": [
    "## Make a SuperClass / ParentClass\n",
    "\n",
    "> In object-oriented programming, a class from which other classes inherit code is called a superclass (Parent Class).\n",
    "\n",
    "> Furthermore, the class that inherits the code is called a subclass of that superclass.\n",
    "\n",
    "in this section we have :\n",
    "- Orc\n",
    "- Orclin\n",
    "- Goblin\n",
    "- Human"
   ]
  },
  {
   "cell_type": "code",
   "execution_count": 1,
   "id": "dc2b4971",
   "metadata": {
    "execution": {
     "iopub.execute_input": "2022-06-20T08:17:56.118411Z",
     "iopub.status.busy": "2022-06-20T08:17:56.117470Z",
     "iopub.status.idle": "2022-06-20T08:17:56.138122Z",
     "shell.execute_reply": "2022-06-20T08:17:56.137432Z"
    },
    "papermill": {
     "duration": 0.028224,
     "end_time": "2022-06-20T08:17:56.140336",
     "exception": false,
     "start_time": "2022-06-20T08:17:56.112112",
     "status": "completed"
    },
    "tags": []
   },
   "outputs": [],
   "source": [
    "## SUPERCLASS\n",
    "class GameObject:\n",
    "  class_name = \"\"\n",
    "  desc = \"\"\n",
    "  objects = {}\n",
    "\n",
    "  def __init__(self, name):\n",
    "    self.name = name\n",
    "    GameObject.objects[self.class_name] = self\n",
    "\n",
    "  def get_desc(self):\n",
    "    return self.class_name + \"\\n\" + self.desc\n",
    "\n",
    "## GOBLIN CLASS\n",
    "class Goblin(GameObject):\n",
    "  def __init__(self, name):\n",
    "    self.class_name = \"goblin\"\n",
    "    self.health = 3\n",
    "    self._desc = \" A foul creature\"\n",
    "    super().__init__(name)\n",
    "\n",
    "  @property\n",
    "  def desc(self):\n",
    "    if self.health >=3:\n",
    "      return self._desc\n",
    "    elif self.health == 2:\n",
    "      health_line = \"It has a wound on its knee.\"\n",
    "    elif self.health == 1:\n",
    "      health_line = \"Its left arm has been cut off!\"\n",
    "    elif self.health <= 0:\n",
    "      health_line = \"It is dead.\"\n",
    "    return self._desc + \"\\n\" + health_line\n",
    "    \n",
    "  @desc.setter\n",
    "  def desc(self, value):\n",
    "    self._desc = value\n",
    "\n",
    "## Orclin CLASS\n",
    "class Orclin(GameObject):\n",
    "  def __init__(self, name):\n",
    "    self.class_name = \"orclin\"\n",
    "    self.health = 4\n",
    "    self._desc = \" A monster creature \"\n",
    "    super().__init__(name)\n",
    "\n",
    "  @property\n",
    "  def desc(self):\n",
    "    if self.health >=4:\n",
    "      return self._desc\n",
    "    elif self.health == 3:\n",
    "      health_line = \"It appeared that he has weakness\"\n",
    "    elif self.health == 2:\n",
    "      health_line = \"You managed to cleave the orclin\"\n",
    "    elif self.health == 1:\n",
    "      health_line = \"Its right arm has been cut off!\"\n",
    "    elif self.health <= 0:\n",
    "      health_line = \"It is dead.\"\n",
    "    return self._desc + \"\\n\" + health_line\n",
    "    \n",
    "  @desc.setter\n",
    "  def desc(self, value):\n",
    "    self._desc = value\n",
    "\n",
    "\n",
    "## HUMAN CLASS\n",
    "class Human(GameObject):\n",
    "  def __init__(self, name):\n",
    "    self.class_name = \"human\"\n",
    "    self._desc = \"Just a regular human person like you\"\n",
    "    super().__init__(name)\n",
    "    \n",
    "  @property\n",
    "  def desc(self):\n",
    "    return self._desc\n",
    "  \n",
    "  @desc.setter\n",
    "  def desc(self, value):\n",
    "    self._desc = value\n",
    "\n",
    "## ORC CLASS\n",
    "class Orc(GameObject):\n",
    "  def __init__(self, name):\n",
    "    self.class_name = \"orc\"\n",
    "    self.health = 5\n",
    "    self._desc = \" A powerful evil creature\"\n",
    "    super().__init__(name)\n",
    "\n",
    "  @property\n",
    "  def desc(self):\n",
    "    if self.health >= 5:\n",
    "      return self._desc\n",
    "    elif self.health == 4:\n",
    "      health_line = \"Not even a scratch.\"\n",
    "    elif self.health == 3:\n",
    "      health_line = \"You have broken its shield.\"\n",
    "    elif self.health == 2:\n",
    "      health_line = \"It has a wound on its knee.\"\n",
    "    elif self.health == 1:\n",
    "      health_line = \"Its left arm has been cut off!\"\n",
    "    elif self.health <= 0:\n",
    "      health_line = \"It is dead.\"\n",
    "    return self._desc + \"\\n\" + health_line\n",
    "\n",
    "  @desc.setter\n",
    "  def desc(self, value):\n",
    "    self._desc = value\n",
    "\n"
   ]
  },
  {
   "cell_type": "markdown",
   "id": "de91e2a0",
   "metadata": {
    "papermill": {
     "duration": 0.00338,
     "end_time": "2022-06-20T08:17:56.147832",
     "exception": false,
     "start_time": "2022-06-20T08:17:56.144452",
     "status": "completed"
    },
    "tags": []
   },
   "source": [
    "## Create the Function to Interpreting the List of Commands\n",
    "\n",
    "We wanted to created an interaction to an object above so we can do things like :\n",
    "- say\n",
    "- examine\n",
    "- hit"
   ]
  },
  {
   "cell_type": "code",
   "execution_count": 2,
   "id": "b5a4338c",
   "metadata": {
    "execution": {
     "iopub.execute_input": "2022-06-20T08:17:56.157198Z",
     "iopub.status.busy": "2022-06-20T08:17:56.156143Z",
     "iopub.status.idle": "2022-06-20T08:17:56.164259Z",
     "shell.execute_reply": "2022-06-20T08:17:56.163427Z"
    },
    "papermill": {
     "duration": 0.014922,
     "end_time": "2022-06-20T08:17:56.166387",
     "exception": false,
     "start_time": "2022-06-20T08:17:56.151465",
     "status": "completed"
    },
    "tags": []
   },
   "outputs": [],
   "source": [
    "## Input function to interpret the list of commands\n",
    "def get_input():\n",
    "  user_input = \"\"\n",
    "  while 1:\n",
    "    try:\n",
    "      user_input = user_input + input() + \"\\n\"\n",
    "    except:\n",
    "      break\n",
    "  default_input = \"say hi\\n examine goblin\\n question goblin\\n hit goblin\\n examine goblin\\n hit goblin\\n examine goblin\\n hit goblin\\n examine goblin\\n examine orc\\n question orc\\n hit orc\\n examine orc\\n examine human\\n question human\\n hit human\\n examine human\"\n",
    "  text = user_input if user_input != \"\\n\" else default_input\n",
    "  comm_list = text.splitlines()\n",
    "  i = 0\n",
    "  for line in comm_list:\n",
    "    command = line.split()\n",
    "    if len(command) == 1:\n",
    "      command.append(\"nothing\")\n",
    "    verb_word = command[0]\n",
    "    i = i + 1\n",
    "    print (i,\".\",\"You\",command[0],command[1])\n",
    "    if verb_word in verb_dictionary:\n",
    "      verb = verb_dictionary[verb_word]\n",
    "    else:\n",
    "      print(\"Unknown verb {}\". format(verb_word))\n",
    "      return\n",
    "\n",
    "    if len(command) >= 2:\n",
    "      noun_word = command[1]\n",
    "      print (verb(noun_word))\n",
    "    else:\n",
    "      print(verb(\"nothing\"))"
   ]
  },
  {
   "cell_type": "markdown",
   "id": "4a6d4d84",
   "metadata": {
    "papermill": {
     "duration": 0.003353,
     "end_time": "2022-06-20T08:17:56.173405",
     "exception": false,
     "start_time": "2022-06-20T08:17:56.170052",
     "status": "completed"
    },
    "tags": []
   },
   "source": [
    "## Function that will react to interaction\n",
    "\n",
    "after we create an interaction , we should make how the interaction will managed the things like :\n",
    "- the answer\n",
    "- the health of the monster\n",
    "- or something .."
   ]
  },
  {
   "cell_type": "code",
   "execution_count": 3,
   "id": "b1afacd5",
   "metadata": {
    "execution": {
     "iopub.execute_input": "2022-06-20T08:17:56.182198Z",
     "iopub.status.busy": "2022-06-20T08:17:56.181816Z",
     "iopub.status.idle": "2022-06-20T08:17:56.192133Z",
     "shell.execute_reply": "2022-06-20T08:17:56.191222Z"
    },
    "papermill": {
     "duration": 0.01703,
     "end_time": "2022-06-20T08:17:56.193989",
     "exception": false,
     "start_time": "2022-06-20T08:17:56.176959",
     "status": "completed"
    },
    "tags": []
   },
   "outputs": [],
   "source": [
    "## Function to react to 'say'\n",
    "def say(noun):\n",
    "  return 'You said \"{}\"'.format(noun)\n",
    "\n",
    "## Function to react to 'examine'\n",
    "def examine(noun):\n",
    "  if noun in GameObject.objects:\n",
    "    return GameObject.objects[noun].get_desc()\n",
    "  else:\n",
    "    return \"There is no {} here.\".format(noun)\n",
    "\n",
    "## Function to react to 'hit'\n",
    "def hit(noun):\n",
    "  if noun in GameObject.objects:\n",
    "    thing = GameObject.objects[noun]\n",
    "    if type(thing) == Goblin:\n",
    "      thing.health = thing.health - 1\n",
    "      if thing.health <= 0:\n",
    "        msg = \"You killed this servant of evil!\"\n",
    "      else: \n",
    "        msg = \"You hit the {}\".format(thing.class_name)\n",
    "    elif type(thing) == Orc:\n",
    "      thing.health = thing.health - 1\n",
    "      if thing.health <= 0:\n",
    "        msg = \"You killed this servant of evil!\"\n",
    "      else:\n",
    "        msg = \"You hit the {}\".format(thing.class_name)\n",
    "    elif type(thing) == Orclin:\n",
    "      thing.health = thing.health - 1\n",
    "      if thing.health <= 0:\n",
    "        msg = \"You killed this monster\"\n",
    "      else: \n",
    "        msg = \"You hit the {}\".format(thing.class_name)\n",
    "    elif type(thing) == Human:\n",
    "      thing.desc = \"You tried hitting this poor person. Now it's mad.\"\n",
    "      msg = \"Why would you hit a human?\"\n",
    "      \n",
    "  else:\n",
    "    msg =\"There is no {} here.\".format(noun) \n",
    "  return msg\n",
    "\n",
    "## Function to react to 'question'\n",
    "def question(noun):\n",
    "  if noun in GameObject.objects:\n",
    "    creature = GameObject.objects[noun]\n",
    "    try:\n",
    "      if creature.health > 0:\n",
    "        msg = \"\\\"My name is \" + creature.name + \".\\\"\"\n",
    "      else:\n",
    "        msg = \"Why questioning the dead...\"\n",
    "    except:\n",
    "      msg = \"\\\"My name is \" + creature.name + \".\\\"\"\n",
    "  else:\n",
    "    msg =\"There is no {} here.\".format(noun)\n",
    "  return msg"
   ]
  },
  {
   "cell_type": "markdown",
   "id": "053a31a9",
   "metadata": {
    "papermill": {
     "duration": 0.003257,
     "end_time": "2022-06-20T08:17:56.200952",
     "exception": false,
     "start_time": "2022-06-20T08:17:56.197695",
     "status": "completed"
    },
    "tags": []
   },
   "source": [
    "## Let's Render !\n",
    "\n",
    "- Apart from that , an object should have a return , in this section you will see a verb_dictionary which will render all the things that we created above.\n",
    "- Also a fancy nick that what we should call 'em"
   ]
  },
  {
   "cell_type": "code",
   "execution_count": 4,
   "id": "4fe9e81b",
   "metadata": {
    "execution": {
     "iopub.execute_input": "2022-06-20T08:17:56.209511Z",
     "iopub.status.busy": "2022-06-20T08:17:56.209111Z",
     "iopub.status.idle": "2022-06-20T08:17:56.214399Z",
     "shell.execute_reply": "2022-06-20T08:17:56.213551Z"
    },
    "papermill": {
     "duration": 0.011665,
     "end_time": "2022-06-20T08:17:56.216123",
     "exception": false,
     "start_time": "2022-06-20T08:17:56.204458",
     "status": "completed"
    },
    "tags": []
   },
   "outputs": [],
   "source": [
    "# Initialising the program with 1 object per class\n",
    "goblin = Goblin(\"Gobbly\")\n",
    "orc = Orc(\"Orcley\")\n",
    "orclin = Orclin(\"Orclina\")\n",
    "human = Human(\"John\")\n",
    "\n",
    "verb_dictionary = {\n",
    "  \"say\": say,\n",
    "  \"examine\": examine,\n",
    "  \"hit\": hit,\n",
    "  \"question\": question,\n",
    "}"
   ]
  },
  {
   "cell_type": "markdown",
   "id": "b76f62b4",
   "metadata": {
    "papermill": {
     "duration": 0.003359,
     "end_time": "2022-06-20T08:17:56.223219",
     "exception": false,
     "start_time": "2022-06-20T08:17:56.219860",
     "status": "completed"
    },
    "tags": []
   },
   "source": [
    "## Results / User Input\n",
    "\n",
    "From here you can make up your imagination like\n",
    "\n",
    "- say hi to human\n",
    "- examine human\n",
    "- hit human\n",
    "- question human\n",
    "\n",
    "> Note : sensitive case matter\n",
    "```\n",
    "Also note : \n",
    "the writer still manage the function to break when the input is entered .\n",
    "It may appear still on loading , but in this case you should break manually after entering the input\n",
    "```"
   ]
  },
  {
   "cell_type": "code",
   "execution_count": 5,
   "id": "72fe92b1",
   "metadata": {
    "execution": {
     "iopub.execute_input": "2022-06-20T08:17:56.232249Z",
     "iopub.status.busy": "2022-06-20T08:17:56.231873Z",
     "iopub.status.idle": "2022-06-20T08:17:56.236235Z",
     "shell.execute_reply": "2022-06-20T08:17:56.235219Z"
    },
    "papermill": {
     "duration": 0.011144,
     "end_time": "2022-06-20T08:17:56.238105",
     "exception": false,
     "start_time": "2022-06-20T08:17:56.226961",
     "status": "completed"
    },
    "tags": []
   },
   "outputs": [],
   "source": [
    "get_input()\n",
    "\n",
    "## please break manually after entering an input below \n",
    "## also you can stack the input"
   ]
  },
  {
   "cell_type": "markdown",
   "id": "9ebfcdec",
   "metadata": {
    "papermill": {
     "duration": 0.003476,
     "end_time": "2022-06-20T08:17:56.245364",
     "exception": false,
     "start_time": "2022-06-20T08:17:56.241888",
     "status": "completed"
    },
    "tags": []
   },
   "source": [
    "# Conclusion\n",
    "\n",
    "#### Great job you've done managed it so far!\n",
    "\n",
    "\n",
    "## So this is the conclusion based on your learn things\n",
    "\n",
    "\n",
    "## What is OOP ?\n",
    "\n",
    "> Object-oriented programming is a programming paradigm that provides a means of structuring programs so that properties and behaviors are bundled into individual objects.\n",
    "\n",
    "> For instance, an object could represent a person with properties like a name, age, and address and behaviors such as walking, talking, breathing, and running.\n",
    "\n",
    "![](https://editor.analyticsvidhya.com/uploads/96981images.png)\n",
    "\n",
    "## When to use OOP ?\n",
    "\n",
    "> When there's a several object to use\n",
    "\n",
    "## When not to use OOP ?\n",
    "\n",
    "> Whenever you face a math (sometimes) \n",
    "\n"
   ]
  },
  {
   "cell_type": "markdown",
   "id": "8e96ef2e",
   "metadata": {
    "papermill": {
     "duration": 0.003636,
     "end_time": "2022-06-20T08:17:56.252517",
     "exception": false,
     "start_time": "2022-06-20T08:17:56.248881",
     "status": "completed"
    },
    "tags": []
   },
   "source": [
    "#### Reference :\n",
    "\n",
    "*oneline code / Application*\n",
    "- https://github.com/RFebrians/AI-Assistant/blob/main/playground/rpg-fantasy.py\n",
    "\n",
    "*an adaptation improvise of simple rpg game from *\n",
    "- https://gist.github.com/almartin1911/e8d89934a0fdea662602a1192f579534\n",
    "- https://www.sololearn.com/Discuss/2825350/oop-goblin-game\n",
    "\n",
    "*assets*\n",
    "- [1]Wallpapercave\n",
    "- [2]furaffinity.net\n",
    "\n",
    "*readmore about oop [2022]*\n",
    "- https://www.geeksforgeeks.org/python-oops-concepts/"
   ]
  }
 ],
 "metadata": {
  "kernelspec": {
   "display_name": "Python 3",
   "language": "python",
   "name": "python3"
  },
  "language_info": {
   "codemirror_mode": {
    "name": "ipython",
    "version": 3
   },
   "file_extension": ".py",
   "mimetype": "text/x-python",
   "name": "python",
   "nbconvert_exporter": "python",
   "pygments_lexer": "ipython3",
   "version": "3.7.12"
  },
  "papermill": {
   "default_parameters": {},
   "duration": 9.338278,
   "end_time": "2022-06-20T08:17:56.877622",
   "environment_variables": {},
   "exception": null,
   "input_path": "__notebook__.ipynb",
   "output_path": "__notebook__.ipynb",
   "parameters": {},
   "start_time": "2022-06-20T08:17:47.539344",
   "version": "2.3.4"
  }
 },
 "nbformat": 4,
 "nbformat_minor": 5
}
