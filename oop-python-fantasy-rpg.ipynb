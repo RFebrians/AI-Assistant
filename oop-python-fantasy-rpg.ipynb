{
 "cells": [
  {
   "cell_type": "markdown",
   "id": "39ddc9f3",
   "metadata": {
    "papermill": {
     "duration": 0.005432,
     "end_time": "2022-06-20T04:28:29.811979",
     "exception": false,
     "start_time": "2022-06-20T04:28:29.806547",
     "status": "completed"
    },
    "tags": []
   },
   "source": [
    "<div class=\"alert alert-block \">\n",
    "    <h1 align=\"center\">Object-Oriented Programming in Python </h1>\n",
    "    <h1 align=\"center\">Fantasy RPG 👾 : </h1>\n",
    "    <h1 align=\"center\">Goblin , Orc , Human  </h1>\n",
    "    <h4 align=\"center\"><a href=\"https://www.kaggle.com/competitions/bike-sharing-demand/overview\">Original Competition</a> | <a href=\"https://www.kaggle.com/competitions/bike-sharing-demand/data\">Dataset</a> | <a href=\"https://rfebrians.github.io\"> Writer</a></h5>\n",
    "</div>"
   ]
  },
  {
   "cell_type": "markdown",
   "id": "f4678f90",
   "metadata": {
    "papermill": {
     "duration": 0.004112,
     "end_time": "2022-06-20T04:28:29.823734",
     "exception": false,
     "start_time": "2022-06-20T04:28:29.819622",
     "status": "completed"
    },
    "tags": []
   },
   "source": [
    "![](https://artfiles.alphacoders.com/129/thumb-1920-129837.jpg)"
   ]
  },
  {
   "cell_type": "markdown",
   "id": "037f80e7",
   "metadata": {
    "papermill": {
     "duration": 0.003824,
     "end_time": "2022-06-20T04:28:29.831932",
     "exception": false,
     "start_time": "2022-06-20T04:28:29.828108",
     "status": "completed"
    },
    "tags": []
   },
   "source": [
    "# Introduction"
   ]
  },
  {
   "cell_type": "markdown",
   "id": "525a2ca8",
   "metadata": {
    "papermill": {
     "duration": 0.003694,
     "end_time": "2022-06-20T04:28:29.839787",
     "exception": false,
     "start_time": "2022-06-20T04:28:29.836093",
     "status": "completed"
    },
    "tags": []
   },
   "source": [
    "# So um What is OOP ?\n",
    "\n",
    "> Object-oriented programming is a programming paradigm that provides a means of structuring programs so that properties and behaviors are bundled into individual objects.\n",
    "\n",
    "> For instance, an object could represent a person with properties like a name, age, and address and behaviors such as walking, talking, breathing, and running.\n",
    "\n",
    "# Why it used based on fantasy things ?\n",
    "\n"
   ]
  },
  {
   "cell_type": "markdown",
   "id": "e6187334",
   "metadata": {
    "papermill": {
     "duration": 0.003862,
     "end_time": "2022-06-20T04:28:29.848964",
     "exception": false,
     "start_time": "2022-06-20T04:28:29.845102",
     "status": "completed"
    },
    "tags": []
   },
   "source": [
    "## SuperClass\n",
    "\n",
    "Superclass contain about\n",
    "\n",
    "### Let's say our heroine is Human , and there is a Goblin and Orc \n",
    "\n",
    "![](https://raw.githubusercontent.com/RFebrians/AI-Assistant/main/playground/assets/1579023527.afallenwolf_orc_evolution.jpg)\n",
    "> furaffinity.net"
   ]
  },
  {
   "cell_type": "code",
   "execution_count": 1,
   "id": "4a3f0f1a",
   "metadata": {
    "execution": {
     "iopub.execute_input": "2022-06-20T04:28:29.859862Z",
     "iopub.status.busy": "2022-06-20T04:28:29.858702Z",
     "iopub.status.idle": "2022-06-20T04:28:29.881108Z",
     "shell.execute_reply": "2022-06-20T04:28:29.880177Z"
    },
    "papermill": {
     "duration": 0.030785,
     "end_time": "2022-06-20T04:28:29.883828",
     "exception": false,
     "start_time": "2022-06-20T04:28:29.853043",
     "status": "completed"
    },
    "tags": []
   },
   "outputs": [],
   "source": [
    "## SUPERCLASS\n",
    "class GameObject:\n",
    "  class_name = \"\"\n",
    "  desc = \"\"\n",
    "  objects = {}\n",
    "\n",
    "  def __init__(self, name):\n",
    "    self.name = name\n",
    "    GameObject.objects[self.class_name] = self\n",
    "\n",
    "  def get_desc(self):\n",
    "    return self.class_name + \"\\n\" + self.desc\n",
    "\n",
    "## GOBLIN CLASS\n",
    "class Goblin(GameObject):\n",
    "  def __init__(self, name):\n",
    "    self.class_name = \"goblin\"\n",
    "    self.health = 3\n",
    "    self._desc = \" A foul creature\"\n",
    "    super().__init__(name)\n",
    "\n",
    "  @property\n",
    "  def desc(self):\n",
    "    if self.health >=3:\n",
    "      return self._desc\n",
    "    elif self.health == 2:\n",
    "      health_line = \"It has a wound on its knee.\"\n",
    "    elif self.health == 1:\n",
    "      health_line = \"Its left arm has been cut off!\"\n",
    "    elif self.health <= 0:\n",
    "      health_line = \"It is dead.\"\n",
    "    return self._desc + \"\\n\" + health_line\n",
    "    \n",
    "  @desc.setter\n",
    "  def desc(self, value):\n",
    "    self._desc = value\n",
    "\n",
    "## HUMAN CLASS\n",
    "class Human(GameObject):\n",
    "  def __init__(self, name):\n",
    "    self.class_name = \"human\"\n",
    "    self._desc = \"Just a regular human person like you\"\n",
    "    super().__init__(name)\n",
    "    \n",
    "  @property\n",
    "  def desc(self):\n",
    "    return self._desc\n",
    "  \n",
    "  @desc.setter\n",
    "  def desc(self, value):\n",
    "    self._desc = value\n",
    "\n",
    "## ORC CLASS\n",
    "class Orc(GameObject):\n",
    "  def __init__(self, name):\n",
    "    self.class_name = \"orc\"\n",
    "    self.health = 5\n",
    "    self._desc = \" A powerful evil creature\"\n",
    "    super().__init__(name)\n",
    "\n",
    "  @property\n",
    "  def desc(self):\n",
    "    if self.health >= 5:\n",
    "      return self._desc\n",
    "    elif self.health == 4:\n",
    "      health_line = \"Not even a scratch.\"\n",
    "    elif self.health == 3:\n",
    "      health_line = \"You have broken its shield.\"\n",
    "    elif self.health == 2:\n",
    "      health_line = \"It has a wound on its knee.\"\n",
    "    elif self.health == 1:\n",
    "      health_line = \"Its left arm has been cut off!\"\n",
    "    elif self.health <= 0:\n",
    "      health_line = \"It is dead.\"\n",
    "    return self._desc + \"\\n\" + health_line\n",
    "\n",
    "  @desc.setter\n",
    "  def desc(self, value):\n",
    "    self._desc = value\n",
    "\n"
   ]
  },
  {
   "cell_type": "code",
   "execution_count": 2,
   "id": "60248645",
   "metadata": {
    "execution": {
     "iopub.execute_input": "2022-06-20T04:28:29.893582Z",
     "iopub.status.busy": "2022-06-20T04:28:29.892876Z",
     "iopub.status.idle": "2022-06-20T04:28:29.903463Z",
     "shell.execute_reply": "2022-06-20T04:28:29.902364Z"
    },
    "papermill": {
     "duration": 0.017921,
     "end_time": "2022-06-20T04:28:29.905733",
     "exception": false,
     "start_time": "2022-06-20T04:28:29.887812",
     "status": "completed"
    },
    "tags": []
   },
   "outputs": [],
   "source": [
    "## Input function to interpret the list of commands\n",
    "def get_input():\n",
    "  user_input = \"\"\n",
    "  while 1:\n",
    "    try:\n",
    "      user_input = user_input + input() + \"\\n\"\n",
    "    except:\n",
    "      break\n",
    "  default_input = \"say hi\\n examine goblin\\n question goblin\\n hit goblin\\n examine goblin\\n hit goblin\\n examine goblin\\n hit goblin\\n examine goblin\\n examine orc\\n question orc\\n hit orc\\n examine orc\\n examine human\\n question human\\n hit human\\n examine human\"\n",
    "  text = user_input if user_input != \"\\n\" else default_input\n",
    "  comm_list = text.splitlines()\n",
    "  i = 0\n",
    "  for line in comm_list:\n",
    "    command = line.split()\n",
    "    if len(command) == 1:\n",
    "      command.append(\"nothing\")\n",
    "    verb_word = command[0]\n",
    "    i = i + 1\n",
    "    print (i,\".\",\"You\",command[0],command[1])\n",
    "    if verb_word in verb_dictionary:\n",
    "      verb = verb_dictionary[verb_word]\n",
    "    else:\n",
    "      print(\"Unknown verb {}\". format(verb_word))\n",
    "      return\n",
    "\n",
    "    if len(command) >= 2:\n",
    "      noun_word = command[1]\n",
    "      print (verb(noun_word))\n",
    "    else:\n",
    "      print(verb(\"nothing\"))"
   ]
  },
  {
   "cell_type": "code",
   "execution_count": 3,
   "id": "56d4103a",
   "metadata": {
    "execution": {
     "iopub.execute_input": "2022-06-20T04:28:29.915498Z",
     "iopub.status.busy": "2022-06-20T04:28:29.915141Z",
     "iopub.status.idle": "2022-06-20T04:28:29.928396Z",
     "shell.execute_reply": "2022-06-20T04:28:29.927319Z"
    },
    "papermill": {
     "duration": 0.021125,
     "end_time": "2022-06-20T04:28:29.930717",
     "exception": false,
     "start_time": "2022-06-20T04:28:29.909592",
     "status": "completed"
    },
    "tags": []
   },
   "outputs": [],
   "source": [
    "## Function to react to 'say'\n",
    "def say(noun):\n",
    "  return 'You said \"{}\"'.format(noun)\n",
    "\n",
    "## Function to react to 'examine'\n",
    "def examine(noun):\n",
    "  if noun in GameObject.objects:\n",
    "    return GameObject.objects[noun].get_desc()\n",
    "  else:\n",
    "    return \"There is no {} here.\".format(noun)\n",
    "\n",
    "## Function to react to 'hit'\n",
    "def hit(noun):\n",
    "  if noun in GameObject.objects:\n",
    "    thing = GameObject.objects[noun]\n",
    "    if type(thing) == Goblin:\n",
    "      thing.health = thing.health - 1\n",
    "      if thing.health <= 0:\n",
    "        msg = \"You killed this servant of evil!\"\n",
    "      else: \n",
    "        msg = \"You hit the {}\".format(thing.class_name)\n",
    "    elif type(thing) == Orc:\n",
    "      thing.health = thing.health - 1\n",
    "      if thing.health <= 0:\n",
    "        msg = \"You killed this servant of evil!\"\n",
    "      else: \n",
    "        msg = \"You hit the {}\".format(thing.class_name)\n",
    "    elif type(thing) == Human:\n",
    "      thing.desc = \"You tried hitting this poor person. Now it's mad.\"\n",
    "      msg = \"Why would you hit a human?\"\n",
    "      \n",
    "  else:\n",
    "    msg =\"There is no {} here.\".format(noun) \n",
    "  return msg\n",
    "\n",
    "## Function to react to 'question'\n",
    "def question(noun):\n",
    "  if noun in GameObject.objects:\n",
    "    creature = GameObject.objects[noun]\n",
    "    try:\n",
    "      if creature.health > 0:\n",
    "        msg = \"\\\"My name is \" + creature.name + \".\\\"\"\n",
    "      else:\n",
    "        msg = \"Why questioning the dead...\"\n",
    "    except:\n",
    "      msg = \"\\\"My name is \" + creature.name + \".\\\"\"\n",
    "  else:\n",
    "    msg =\"There is no {} here.\".format(noun)\n",
    "  return msg"
   ]
  },
  {
   "cell_type": "code",
   "execution_count": 4,
   "id": "e202ddad",
   "metadata": {
    "execution": {
     "iopub.execute_input": "2022-06-20T04:28:29.940022Z",
     "iopub.status.busy": "2022-06-20T04:28:29.939487Z",
     "iopub.status.idle": "2022-06-20T04:28:29.944701Z",
     "shell.execute_reply": "2022-06-20T04:28:29.944090Z"
    },
    "papermill": {
     "duration": 0.012131,
     "end_time": "2022-06-20T04:28:29.946595",
     "exception": false,
     "start_time": "2022-06-20T04:28:29.934464",
     "status": "completed"
    },
    "tags": []
   },
   "outputs": [],
   "source": [
    "# Initialising the program with 1 object per class\n",
    "goblin = Goblin(\"Gobbly\")\n",
    "orc = Orc(\"Orcley\")\n",
    "human = Human(\"Charles\")\n",
    "\n",
    "verb_dictionary = {\n",
    "  \"say\": say,\n",
    "  \"examine\": examine,\n",
    "  \"hit\": hit,\n",
    "  \"question\": question,\n",
    "}"
   ]
  },
  {
   "cell_type": "markdown",
   "id": "75dffff2",
   "metadata": {
    "papermill": {
     "duration": 0.003511,
     "end_time": "2022-06-20T04:28:29.953883",
     "exception": false,
     "start_time": "2022-06-20T04:28:29.950372",
     "status": "completed"
    },
    "tags": []
   },
   "source": [
    "## Input"
   ]
  },
  {
   "cell_type": "code",
   "execution_count": 5,
   "id": "38e30e9c",
   "metadata": {
    "execution": {
     "iopub.execute_input": "2022-06-20T04:28:29.963183Z",
     "iopub.status.busy": "2022-06-20T04:28:29.962645Z",
     "iopub.status.idle": "2022-06-20T04:28:29.967031Z",
     "shell.execute_reply": "2022-06-20T04:28:29.966277Z"
    },
    "papermill": {
     "duration": 0.011229,
     "end_time": "2022-06-20T04:28:29.968896",
     "exception": false,
     "start_time": "2022-06-20T04:28:29.957667",
     "status": "completed"
    },
    "tags": []
   },
   "outputs": [],
   "source": [
    "get_input()\n"
   ]
  },
  {
   "cell_type": "markdown",
   "id": "a4c5c472",
   "metadata": {
    "papermill": {
     "duration": 0.003475,
     "end_time": "2022-06-20T04:28:29.976008",
     "exception": false,
     "start_time": "2022-06-20T04:28:29.972533",
     "status": "completed"
    },
    "tags": []
   },
   "source": [
    "*reference :*\n",
    "\n",
    "*an improvise of simple rpg game from :*\n",
    "- https://gist.github.com/almartin1911/e8d89934a0fdea662602a1192f579534\n",
    "- https://www.sololearn.com/Discuss/2825350/oop-goblin-game\n",
    "\n",
    "*readmore about oop:*"
   ]
  }
 ],
 "metadata": {
  "kernelspec": {
   "display_name": "Python 3",
   "language": "python",
   "name": "python3"
  },
  "language_info": {
   "codemirror_mode": {
    "name": "ipython",
    "version": 3
   },
   "file_extension": ".py",
   "mimetype": "text/x-python",
   "name": "python",
   "nbconvert_exporter": "python",
   "pygments_lexer": "ipython3",
   "version": "3.7.12"
  },
  "papermill": {
   "default_parameters": {},
   "duration": 12.056698,
   "end_time": "2022-06-20T04:28:30.805597",
   "environment_variables": {},
   "exception": null,
   "input_path": "__notebook__.ipynb",
   "output_path": "__notebook__.ipynb",
   "parameters": {},
   "start_time": "2022-06-20T04:28:18.748899",
   "version": "2.3.4"
  }
 },
 "nbformat": 4,
 "nbformat_minor": 5
}
