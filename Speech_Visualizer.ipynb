{
  "nbformat": 4,
  "nbformat_minor": 0,
  "metadata": {
    "colab": {
      "name": "Speech_Visualizer.ipynb",
      "provenance": [],
      "authorship_tag": "ABX9TyO/NTzriWHiUjfeqXbt6oH3",
      "include_colab_link": true
    },
    "kernelspec": {
      "name": "python3",
      "display_name": "Python 3"
    },
    "language_info": {
      "name": "python"
    }
  },
  "cells": [
    {
      "cell_type": "markdown",
      "metadata": {
        "id": "view-in-github",
        "colab_type": "text"
      },
      "source": [
        "<a href=\"https://colab.research.google.com/github/RFebrians/AI-Assistant/blob/main/Speech_Visualizer.ipynb\" target=\"_parent\"><img src=\"https://colab.research.google.com/assets/colab-badge.svg\" alt=\"Open In Colab\"/></a>"
      ]
    },
    {
      "cell_type": "code",
      "source": [
        "pip install pyaudio"
      ],
      "metadata": {
        "colab": {
          "base_uri": "https://localhost:8080/"
        },
        "id": "0oRsrQFWQvsB",
        "outputId": "df96d720-8633-47c5-c1bb-5a8b0f7c4ed8"
      },
      "execution_count": null,
      "outputs": [
        {
          "output_type": "stream",
          "name": "stdout",
          "text": [
            "Collecting pyaudio\n",
            "  Downloading PyAudio-0.2.11.tar.gz (37 kB)\n",
            "Building wheels for collected packages: pyaudio\n",
            "  Building wheel for pyaudio (setup.py) ... \u001b[?25lerror\n",
            "\u001b[31m  ERROR: Failed building wheel for pyaudio\u001b[0m\n",
            "\u001b[?25h  Running setup.py clean for pyaudio\n",
            "Failed to build pyaudio\n",
            "Installing collected packages: pyaudio\n",
            "    Running setup.py install for pyaudio ... \u001b[?25l\u001b[?25herror\n",
            "\u001b[31mERROR: Command errored out with exit status 1: /usr/bin/python3 -u -c 'import io, os, sys, setuptools, tokenize; sys.argv[0] = '\"'\"'/tmp/pip-install-2m7b8kne/pyaudio_c87fff5022c0493b85e00d03bcb130a5/setup.py'\"'\"'; __file__='\"'\"'/tmp/pip-install-2m7b8kne/pyaudio_c87fff5022c0493b85e00d03bcb130a5/setup.py'\"'\"';f = getattr(tokenize, '\"'\"'open'\"'\"', open)(__file__) if os.path.exists(__file__) else io.StringIO('\"'\"'from setuptools import setup; setup()'\"'\"');code = f.read().replace('\"'\"'\\r\\n'\"'\"', '\"'\"'\\n'\"'\"');f.close();exec(compile(code, __file__, '\"'\"'exec'\"'\"'))' install --record /tmp/pip-record-ii2e9ga0/install-record.txt --single-version-externally-managed --compile --install-headers /usr/local/include/python3.7/pyaudio Check the logs for full command output.\u001b[0m\n"
          ]
        }
      ]
    },
    {
      "cell_type": "code",
      "source": [
        ""
      ],
      "metadata": {
        "id": "dpD02E_NQy53"
      },
      "execution_count": null,
      "outputs": []
    },
    {
      "cell_type": "code",
      "execution_count": null,
      "metadata": {
        "id": "nmhZMd2qQdxS"
      },
      "outputs": [],
      "source": [
        "import pyaudio\n",
        "import struct\n",
        "import matplotlib.pyplot as plt\n",
        "import numpy as np\n",
        "\n",
        "mic = pyaudio.PyAudio()\n",
        "FORMAT = pyaudio.paInt16\n",
        "CHANNELS = 1\n",
        "RATE = 5000\n",
        "CHUNK = 3000#int(RATE/20)\n",
        "stream = mic.open(format=FORMAT, channels=CHANNELS, rate=RATE, input=True, output=True, frames_per_buffer=CHUNK)\n",
        "\n",
        "fig, ax = plt.subplots(figsize=(14,6))\n",
        "x = np.arange(0, 2 * CHUNK, 2)\n",
        "ax.set_ylim(-500, 500)\n",
        "ax.set_xlim(0, CHUNK)\n",
        "line, = ax.plot(x, np.random.rand(CHUNK))\n",
        "\n",
        "\n",
        "while True:\n",
        "    data = stream.read(CHUNK)\n",
        "    data = np.frombuffer(data, np.int16)\n",
        "    line.set_ydata(data)\n",
        "    fig.canvas.draw()\n",
        "    fig.canvas.flush_events()\n",
        "    plt.pause(0.01)"
      ]
    },
    {
      "cell_type": "code",
      "source": [
        "import pyttsx3\n",
        "\n",
        "engine = pyttsx3.init()\n",
        "\n",
        "engine.say(\"Hello World\")\n",
        "engine.runAndWait()"
      ],
      "metadata": {
        "id": "fVzgCLDGQuKf"
      },
      "execution_count": null,
      "outputs": []
    }
  ]
}